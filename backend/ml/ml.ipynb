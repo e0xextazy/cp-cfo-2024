{
 "cells": [
  {
   "cell_type": "code",
   "execution_count": 1,
   "metadata": {},
   "outputs": [],
   "source": [
    "import pandas as pd\n",
    "import re\n",
    "from llama_index.core import Document\n",
    "from llama_index.llms.huggingface import HuggingFaceLLM\n",
    "from llama_index.embeddings.huggingface import HuggingFaceEmbedding\n",
    "from transformers import BitsAndBytesConfig\n",
    "from llama_index.core import VectorStoreIndex\n",
    "from llama_index.core.postprocessor import SimilarityPostprocessor\n",
    "from llama_index.core import Settings\n",
    "from llama_index.core.query_engine import CustomQueryEngine\n",
    "from llama_index.core.retrievers import BaseRetriever\n",
    "from llama_index.core import get_response_synthesizer\n",
    "from llama_index.core.response_synthesizers import BaseSynthesizer\n",
    "from llama_index.core import PromptTemplate\n",
    "import torch"
   ]
  },
  {
   "cell_type": "code",
   "execution_count": 2,
   "metadata": {},
   "outputs": [
    {
     "data": {
      "text/html": [
       "<div>\n",
       "<style scoped>\n",
       "    .dataframe tbody tr th:only-of-type {\n",
       "        vertical-align: middle;\n",
       "    }\n",
       "\n",
       "    .dataframe tbody tr th {\n",
       "        vertical-align: top;\n",
       "    }\n",
       "\n",
       "    .dataframe thead th {\n",
       "        text-align: right;\n",
       "    }\n",
       "</style>\n",
       "<table border=\"1\" class=\"dataframe\">\n",
       "  <thead>\n",
       "    <tr style=\"text-align: right;\">\n",
       "      <th></th>\n",
       "      <th>url</th>\n",
       "      <th>title_preview</th>\n",
       "      <th>description_preview</th>\n",
       "      <th>duration_months</th>\n",
       "      <th>payment_duration_months</th>\n",
       "      <th>title</th>\n",
       "      <th>price</th>\n",
       "      <th>description</th>\n",
       "      <th>technologies</th>\n",
       "      <th>program</th>\n",
       "      <th>has_none_values</th>\n",
       "    </tr>\n",
       "  </thead>\n",
       "  <tbody>\n",
       "    <tr>\n",
       "      <th>0</th>\n",
       "      <td>https://gb.ru/s/ai-integration-specialist</td>\n",
       "      <td>Специалист по внедрению Искусственного Интеллекта</td>\n",
       "      <td>Лёгкий путь в Machine Learning и Data Science....</td>\n",
       "      <td>6</td>\n",
       "      <td>36</td>\n",
       "      <td>Стань специалистом по Искусственному Интеллект...</td>\n",
       "      <td>3599</td>\n",
       "      <td>Создавай AI-продукты и зарабатывай на их внедр...</td>\n",
       "      <td>[Lean Canvas, JTBD, Retention, Figma, CustDev,...</td>\n",
       "      <td>Создание GPT-агентов | Модуль 16 недель | В эт...</td>\n",
       "      <td>False</td>\n",
       "    </tr>\n",
       "    <tr>\n",
       "      <th>1</th>\n",
       "      <td>https://gb.ru/geek_university/developer</td>\n",
       "      <td>Разработчик: старт в ИТ с нуля до Junior</td>\n",
       "      <td>Идеальная программа для тех, кто хочет попасть...</td>\n",
       "      <td>12</td>\n",
       "      <td>36</td>\n",
       "      <td>Разработчик: старт в ИТ с нуля до Junior</td>\n",
       "      <td>3772</td>\n",
       "      <td>Станьте востребованным разработчиком. Вы изучи...</td>\n",
       "      <td>[Программирование, Продукт и проекты, Тестиров...</td>\n",
       "      <td>Основной блок\\nПогружение в сферу ИТ. Вы изучи...</td>\n",
       "      <td>False</td>\n",
       "    </tr>\n",
       "    <tr>\n",
       "      <th>2</th>\n",
       "      <td>https://gb.ru/geek_university/developer/progra...</td>\n",
       "      <td>Python-разработчик: быстрый старт в профессии</td>\n",
       "      <td>Научитесь использовать язык программирования P...</td>\n",
       "      <td>9</td>\n",
       "      <td>36</td>\n",
       "      <td>Python-разработчик: быстрый старт в профессии</td>\n",
       "      <td>4049</td>\n",
       "      <td>• Изучите Python с нуля и без навыков программ...</td>\n",
       "      <td>[Программирование, Python-разработчик]</td>\n",
       "      <td>Программа обучения\\nСпециалист\\nPython-разрабо...</td>\n",
       "      <td>False</td>\n",
       "    </tr>\n",
       "    <tr>\n",
       "      <th>3</th>\n",
       "      <td>https://gb.ru/geek_university/developer/progra...</td>\n",
       "      <td>Программист с нуля до Junior</td>\n",
       "      <td>Выберите профессию в программировании в процес...</td>\n",
       "      <td>12</td>\n",
       "      <td>36</td>\n",
       "      <td>Программист с нуля до Junior</td>\n",
       "      <td>3577</td>\n",
       "      <td>Станьте востребованным инженером-программистом...</td>\n",
       "      <td>[Программирование, Инженер-программист]</td>\n",
       "      <td>Основной блок\\nПогружение в сферу ИТ. Вы изучи...</td>\n",
       "      <td>False</td>\n",
       "    </tr>\n",
       "    <tr>\n",
       "      <th>4</th>\n",
       "      <td>https://gb.ru/geek_university/developer/qa-eng...</td>\n",
       "      <td>Специалист по автоматизированному тестированию</td>\n",
       "      <td>Вы изучите технологии автоматизированного тест...</td>\n",
       "      <td>9</td>\n",
       "      <td>36</td>\n",
       "      <td>Специалист по автоматизированному тестированию</td>\n",
       "      <td>3201</td>\n",
       "      <td>Получите востребованную профессию инженера по ...</td>\n",
       "      <td>[Специалист по автоматизации тестирования, Тес...</td>\n",
       "      <td>Программа обучения\\nСпециалист\\nАвтоматизация ...</td>\n",
       "      <td>False</td>\n",
       "    </tr>\n",
       "  </tbody>\n",
       "</table>\n",
       "</div>"
      ],
      "text/plain": [
       "                                                 url  \\\n",
       "0          https://gb.ru/s/ai-integration-specialist   \n",
       "1            https://gb.ru/geek_university/developer   \n",
       "2  https://gb.ru/geek_university/developer/progra...   \n",
       "3  https://gb.ru/geek_university/developer/progra...   \n",
       "4  https://gb.ru/geek_university/developer/qa-eng...   \n",
       "\n",
       "                                       title_preview  \\\n",
       "0  Специалист по внедрению Искусственного Интеллекта   \n",
       "1           Разработчик: старт в ИТ с нуля до Junior   \n",
       "2      Python-разработчик: быстрый старт в профессии   \n",
       "3                       Программист с нуля до Junior   \n",
       "4     Специалист по автоматизированному тестированию   \n",
       "\n",
       "                                 description_preview  duration_months  \\\n",
       "0  Лёгкий путь в Machine Learning и Data Science....                6   \n",
       "1  Идеальная программа для тех, кто хочет попасть...               12   \n",
       "2  Научитесь использовать язык программирования P...                9   \n",
       "3  Выберите профессию в программировании в процес...               12   \n",
       "4  Вы изучите технологии автоматизированного тест...                9   \n",
       "\n",
       "   payment_duration_months                                              title  \\\n",
       "0                       36  Стань специалистом по Искусственному Интеллект...   \n",
       "1                       36           Разработчик: старт в ИТ с нуля до Junior   \n",
       "2                       36      Python-разработчик: быстрый старт в профессии   \n",
       "3                       36                       Программист с нуля до Junior   \n",
       "4                       36     Специалист по автоматизированному тестированию   \n",
       "\n",
       "   price                                        description  \\\n",
       "0   3599  Создавай AI-продукты и зарабатывай на их внедр...   \n",
       "1   3772  Станьте востребованным разработчиком. Вы изучи...   \n",
       "2   4049  • Изучите Python с нуля и без навыков программ...   \n",
       "3   3577  Станьте востребованным инженером-программистом...   \n",
       "4   3201  Получите востребованную профессию инженера по ...   \n",
       "\n",
       "                                        technologies  \\\n",
       "0  [Lean Canvas, JTBD, Retention, Figma, CustDev,...   \n",
       "1  [Программирование, Продукт и проекты, Тестиров...   \n",
       "2             [Программирование, Python-разработчик]   \n",
       "3            [Программирование, Инженер-программист]   \n",
       "4  [Специалист по автоматизации тестирования, Тес...   \n",
       "\n",
       "                                             program  has_none_values  \n",
       "0  Создание GPT-агентов | Модуль 16 недель | В эт...            False  \n",
       "1  Основной блок\\nПогружение в сферу ИТ. Вы изучи...            False  \n",
       "2  Программа обучения\\nСпециалист\\nPython-разрабо...            False  \n",
       "3  Основной блок\\nПогружение в сферу ИТ. Вы изучи...            False  \n",
       "4  Программа обучения\\nСпециалист\\nАвтоматизация ...            False  "
      ]
     },
     "execution_count": 2,
     "metadata": {},
     "output_type": "execute_result"
    }
   ],
   "source": [
    "def create_docs(df):\n",
    "    documents = []\n",
    "    for i, row in df.iterrows():\n",
    "        metadata = {\n",
    "            \"ссылка\": row.url,\n",
    "            \"заголовок\": row.title_preview,\n",
    "            \"описание\": row.description_preview,\n",
    "            \"цена\": row.price,\n",
    "            \"длительность\": row.duration_months,\n",
    "            \"инструменты\": \", \".join(row.technologies)}\n",
    "        documents.append(Document(text=row.description, metadata=metadata,\n",
    "                         excluded_embed_metadata_keys=[\"ссылка\", \"цена\", \"длительность\"]))\n",
    "\n",
    "    return documents\n",
    "\n",
    "\n",
    "df = pd.read_json(\"data/courses_plus.jsonl\", lines=True)\n",
    "df.dropna(inplace=True)\n",
    "df.drop_duplicates(subset=[\"title_preview\"], inplace=True)\n",
    "df.title_preview = df.title_preview.apply(lambda x: x.split(\"\\n\")[0])\n",
    "df.reset_index(drop=True, inplace=True)\n",
    "df.head()"
   ]
  },
  {
   "cell_type": "code",
   "execution_count": 3,
   "metadata": {},
   "outputs": [],
   "source": [
    "docs = create_docs(df)"
   ]
  },
  {
   "cell_type": "code",
   "execution_count": 4,
   "metadata": {},
   "outputs": [],
   "source": [
    "def setup_llm():\n",
    "    system_prompt = \"Ты AI ассистент, который на основе описания вакансии рекомендует курсы из контекста.\"\n",
    "    quantization_config = BitsAndBytesConfig(\n",
    "        load_in_4bit=True,\n",
    "        bnb_4bit_compute_dtype=torch.float16,\n",
    "        bnb_4bit_quant_type=\"nf4\",\n",
    "        bnb_4bit_use_double_quant=True,\n",
    "    )\n",
    "    llm = HuggingFaceLLM(\n",
    "        model_name=\"mistral_model\",\n",
    "        tokenizer_name=\"mistral_model\",\n",
    "        query_wrapper_prompt=PromptTemplate(\n",
    "            \"<s>[INST] {query_str} [/INST] </s>\\n\"),\n",
    "        context_window=8192,\n",
    "        max_new_tokens=512,\n",
    "        model_kwargs={\"quantization_config\": quantization_config},\n",
    "        # tokenizer_kwargs={},\n",
    "        generate_kwargs={\"temperature\": 0},\n",
    "        device_map=\"auto\",\n",
    "        system_prompt=system_prompt,\n",
    "    )\n",
    "    return llm"
   ]
  },
  {
   "cell_type": "code",
   "execution_count": 5,
   "metadata": {},
   "outputs": [
    {
     "data": {
      "application/vnd.jupyter.widget-view+json": {
       "model_id": "cc5b7bb935834b399ad0052ac67f8dc8",
       "version_major": 2,
       "version_minor": 0
      },
      "text/plain": [
       "Loading checkpoint shards:   0%|          | 0/2 [00:00<?, ?it/s]"
      ]
     },
     "metadata": {},
     "output_type": "display_data"
    },
    {
     "data": {
      "application/vnd.jupyter.widget-view+json": {
       "model_id": "a59df2e6f33e4f37a16d42028f74cec3",
       "version_major": 2,
       "version_minor": 0
      },
      "text/plain": [
       "Parsing nodes:   0%|          | 0/92 [00:00<?, ?it/s]"
      ]
     },
     "metadata": {},
     "output_type": "display_data"
    },
    {
     "data": {
      "application/vnd.jupyter.widget-view+json": {
       "model_id": "09b8eebdff604c0192b05e68c2f475a0",
       "version_major": 2,
       "version_minor": 0
      },
      "text/plain": [
       "Generating embeddings:   0%|          | 0/92 [00:00<?, ?it/s]"
      ]
     },
     "metadata": {},
     "output_type": "display_data"
    }
   ],
   "source": [
    "llm = setup_llm()\n",
    "Settings.llm = llm\n",
    "Settings.embed_model = HuggingFaceEmbedding(\n",
    "    model_name=\"intfloat/multilingual-e5-base\"\n",
    ")\n",
    "\n",
    "index = VectorStoreIndex.from_documents(documents=docs, show_progress=True,)"
   ]
  },
  {
   "cell_type": "code",
   "execution_count": 6,
   "metadata": {},
   "outputs": [],
   "source": [
    "retriever = index.as_retriever(similarity_top_k=7, node_postprocessors=[\n",
    "                               SimilarityPostprocessor(similarity_cutoff=0.85)])"
   ]
  },
  {
   "cell_type": "code",
   "execution_count": 7,
   "metadata": {},
   "outputs": [],
   "source": [
    "stack_prompt = PromptTemplate(\n",
    "    \"У тебя есть описание вакансии: {query_str}\\n\"\n",
    "    \"Тебе нужно найти инструменты из описания вакансии и написать их на русском языке в виде строки с разделителем запятой и без повторений\"\n",
    ")\n",
    "\n",
    "answer_prompt = PromptTemplate(\n",
    "    \"Тебе дано 2 множества:\\n\"\n",
    "    \"Первое множество: {vac_stack}\\n\"\n",
    "    \"Второе множество: {cour_stack}.\\n\"\n",
    "    \"Найди пересечение этих множеств и напиши их на русском языке в виде строки с разделителем запятой и без повторений\"\n",
    ")\n",
    "\n",
    "\n",
    "class RAGStringQueryEngine(CustomQueryEngine):\n",
    "    \"\"\"RAG String Query Engine.\"\"\"\n",
    "\n",
    "    retriever: BaseRetriever\n",
    "    response_synthesizer: BaseSynthesizer\n",
    "    llm: HuggingFaceLLM\n",
    "    stack_prompt: PromptTemplate\n",
    "    answer_prompt: PromptTemplate\n",
    "\n",
    "    def custom_query(self, query_str: str):\n",
    "        query_str = re.sub(\"\\n\", \" \", query_str)\n",
    "        query_str = re.sub(\" +\", \" \", query_str)\n",
    "        query_str = query_str.strip()\n",
    "        nodes = self.retriever.retrieve(query_str)\n",
    "        stack = str(self.llm.complete(stack_prompt.format(\n",
    "            query_str=query_str))).strip().split(\",\")\n",
    "        stack = [el.strip() for el in stack]\n",
    "        responses = []\n",
    "        for n in nodes:\n",
    "            course = {\n",
    "                \"title\": n.node.metadata[\"заголовок\"],\n",
    "                \"price\": n.node.metadata[\"цена\"],\n",
    "                \"link\": n.node.metadata[\"ссылка\"],\n",
    "                \"desc\": n.node.metadata[\"описание\"],\n",
    "                \"vac_stack\": stack,\n",
    "                \"match\": float(n.score),\n",
    "                \"duration\": n.node.metadata[\"длительность\"]\n",
    "            }\n",
    "            # print(answer_prompt.format(vac_stack=stack, cour_stack=n.node.metadata[\"инструменты\"]))\n",
    "            response = self.llm.complete(\n",
    "                answer_prompt.format(\n",
    "                    vac_stack=stack, cour_stack=n.node.metadata[\"инструменты\"])\n",
    "            )\n",
    "            response = str(response).strip().split(\",\")\n",
    "            response = [el.strip() for el in response]\n",
    "            course[\"cover\"] = response\n",
    "            responses.append(course)\n",
    "\n",
    "        return responses"
   ]
  },
  {
   "cell_type": "code",
   "execution_count": 8,
   "metadata": {},
   "outputs": [],
   "source": [
    "synthesizer = get_response_synthesizer(response_mode=\"compact\")\n",
    "\n",
    "query_engine = RAGStringQueryEngine(\n",
    "    retriever=retriever,\n",
    "    response_synthesizer=synthesizer,\n",
    "    llm=llm,\n",
    "    stack_prompt=stack_prompt,\n",
    "    answer_prompt=answer_prompt,\n",
    ")"
   ]
  },
  {
   "cell_type": "code",
   "execution_count": 9,
   "metadata": {},
   "outputs": [],
   "source": [
    "vacancy = \"\"\"\n",
    "Lamoda Group – это крупнейшая в России и СНГ онлайн-платформа по продаже fashion & lifestyle товаров.\n",
    "\n",
    "В настоящий момент мы ищем коллегу на позицию Python/Go разработчика в команду Marketing Development, где ребята занимаются разными системами коммуникации с клиентами, а также множеством других сервисов, направленных на упрощение работы команды маркетинга :)\n",
    "\n",
    "\n",
    "Готовы рассматривать кандидатов без опыта с Golang, но обязательно с желанием развиваться - у нас есть своя выстроенная система онбординга и обучения!\n",
    "\n",
    "Как мы работаем:\n",
    "\n",
    "пишем на последних версиях Python/Go;\n",
    "используем NSQ для внутренних очередей, а Apache Kafka для межсервисного взаимодействия;\n",
    "PostgreSQL в качестве основной СУБД, Redis, Aerospike;\n",
    "все приложения упакованы в Docker и деплоятся нажатием кнопки;\n",
    "у нас отличный CI/CD, запускаем тесты, security & style checks на каждый pull request;\n",
    "все pull request проходят 360 code review;\n",
    "участвуем в разработке и проектировании архитектурных решений, а также в реализации бизнес решений.\n",
    "Чем предстоит заниматься:\n",
    "\n",
    "писать новые и развивать существующие сервисы на Python и Go;\n",
    "участвовать в анализе, проектировании и оценке технических решений вместе с командой;\n",
    "писать unit и функциональные тесты;\n",
    "участвовать в code review.\n",
    "Мы ожидаем:\n",
    "\n",
    "опыт коммерческой разработки бэкенда на Python от 2-х лет, опыт на Golang будет плюсом;\n",
    "опыт работы с SQL базами данных (на уровне join-ов, оптимизации запросов);\n",
    "умение проектировать API сервисов;\n",
    "опыт работы с нереляционными базами данных (Redis);\n",
    "опыт работы с Docker, k8s и Git.\n",
    "\"\"\""
   ]
  },
  {
   "cell_type": "code",
   "execution_count": 10,
   "metadata": {},
   "outputs": [
    {
     "name": "stderr",
     "output_type": "stream",
     "text": [
      "/home/pc/Desktop/cp-cfo-2024/venv/lib/python3.10/site-packages/transformers/generation/configuration_utils.py:492: UserWarning: `do_sample` is set to `False`. However, `temperature` is set to `0` -- this flag is only used in sample-based generation modes. You should set `do_sample=True` or unset `temperature`.\n",
      "  warnings.warn(\n",
      "Setting `pad_token_id` to `eos_token_id`:2 for open-end generation.\n",
      "Setting `pad_token_id` to `eos_token_id`:2 for open-end generation.\n",
      "Setting `pad_token_id` to `eos_token_id`:2 for open-end generation.\n",
      "Setting `pad_token_id` to `eos_token_id`:2 for open-end generation.\n",
      "Setting `pad_token_id` to `eos_token_id`:2 for open-end generation.\n",
      "Setting `pad_token_id` to `eos_token_id`:2 for open-end generation.\n",
      "Setting `pad_token_id` to `eos_token_id`:2 for open-end generation.\n",
      "Setting `pad_token_id` to `eos_token_id`:2 for open-end generation.\n"
     ]
    }
   ],
   "source": [
    "response = query_engine.query(vacancy)"
   ]
  },
  {
   "cell_type": "code",
   "execution_count": 11,
   "metadata": {},
   "outputs": [
    {
     "name": "stdout",
     "output_type": "stream",
     "text": [
      "{'title': 'Backend-разработчик', 'price': 4049, 'link': 'https://gb.ru/geek_university/developer/programmer/backend', 'desc': 'Вы научитесь создавать внутреннюю систему сайтов: выстраивать обмен данными, работать с базами данных, обеспечивать бесперебойную и производительную работу системы', 'vac_stack': ['Python/Go разработчик', 'Marketing Development', 'NSQ', 'Apache Kafka', 'PostgreSQL', 'Redis', 'Aerospike', 'Docker', 'CI/CD', 'unit/functional tests', 'code review', 'SQL', 'API', 'non-relational databases', 'Docker', 'k8s', 'Git.'], 'match': 0.8715546317208881, 'duration': 9, 'cover': [\"```python\\nset1 = ['Python/Go разработчик'\", \"'Marketing Development'\", \"'NSQ'\", \"'Apache Kafka'\", \"'PostgreSQL'\", \"'Redis'\", \"'Aerospike'\", \"'Docker'\", \"'CI/CD'\", \"'unit/functional tests'\", \"'code review'\", \"'SQL'\", \"'API'\", \"'non-relational databases'\", \"'Docker'\", \"'k8s'\", \"'Git.']\\nset2 = ['Освоите 17 инструментов Python-разработчика\", 'Среды разработки', 'PyCharm', 'Docker', 'Linux', 'Kubernetes', 'Git', 'GitHub', 'Google Colab', 'Visual Studio', 'Visual Studio Code', 'Разработка веб-приложений', 'Python', 'Django', 'Flask', 'FastAPI', 'HTML', 'CSS', 'Работа с данными', 'SQL', 'MySQL', 'Oracle', 'PostgreSQL', 'JSON', \"XML.']\\n\\nintersection = set1.intersection(set2)\\n\\nprint('\", \"'.join(intersection))\\n```\\n\\n```python\\n['Python'\", \"'Docker'\", \"'Git'\", \"'SQL'\", \"'API'\", \"'non-relational databases'\", \"'Docker'\", \"'k8s'\", \"'Git'\", \"'GitHub'\", \"'Google Colab'\", \"'Visual Studio'\", \"'Visual Studio Code'\", \"'Разработка веб-приложений'\", \"'Python'\", \"'Django'\", \"'Flask'\", \"'FastAPI'\", \"'HTML'\", \"'CSS'\", \"'Работа с данными'\", \"'PostgreSQL'\", \"'JSON'\", \"'XML']\\n```\"]}\n"
     ]
    }
   ],
   "source": [
    "print(response[0])"
   ]
  },
  {
   "cell_type": "code",
   "execution_count": 12,
   "metadata": {},
   "outputs": [
    {
     "data": {
      "text/plain": [
       "7"
      ]
     },
     "execution_count": 12,
     "metadata": {},
     "output_type": "execute_result"
    }
   ],
   "source": [
    "len(response)"
   ]
  }
 ],
 "metadata": {
  "kernelspec": {
   "display_name": "venv",
   "language": "python",
   "name": "python3"
  },
  "language_info": {
   "codemirror_mode": {
    "name": "ipython",
    "version": 3
   },
   "file_extension": ".py",
   "mimetype": "text/x-python",
   "name": "python",
   "nbconvert_exporter": "python",
   "pygments_lexer": "ipython3",
   "version": "3.10.12"
  }
 },
 "nbformat": 4,
 "nbformat_minor": 2
}
