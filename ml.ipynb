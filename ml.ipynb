{
 "cells": [
  {
   "cell_type": "code",
   "execution_count": 62,
   "metadata": {},
   "outputs": [],
   "source": [
    "import pandas as pd\n",
    "import re\n",
    "from llama_index.core import Document\n",
    "from llama_index.llms.huggingface import HuggingFaceLLM\n",
    "from llama_index.embeddings.huggingface import HuggingFaceEmbedding\n",
    "from transformers import BitsAndBytesConfig\n",
    "from llama_index.core import VectorStoreIndex\n",
    "from llama_index.core.postprocessor import SimilarityPostprocessor\n",
    "from llama_index.core import Settings\n",
    "from llama_index.core.query_engine import CustomQueryEngine\n",
    "from llama_index.core.retrievers import BaseRetriever\n",
    "from llama_index.core import get_response_synthesizer\n",
    "from llama_index.core.response_synthesizers import BaseSynthesizer\n",
    "from llama_index.core import PromptTemplate\n",
    "import torch\n",
    "\n",
    "from typing import List\n",
    "from pydantic import BaseModel"
   ]
  },
  {
   "cell_type": "code",
   "execution_count": 40,
   "metadata": {},
   "outputs": [],
   "source": [
    "# class Course(BaseModel):\n",
    "#     \"\"\"Data model for education course.\"\"\"\n",
    "#     title: str\n",
    "#     description: str\n",
    "#     # price: int\n",
    "#     # link: str\n",
    "\n",
    "# class CourseList(BaseModel):\n",
    "#     \"\"\"Data model for list of education courses.\"\"\"\n",
    "#     courses: List[Course]\n",
    "\n",
    "class TechList(BaseModel):\n",
    "    \"\"\"Data model for 2 technology stack.\"\"\"\n",
    "    good: List[str]\n",
    "    bad: List[str]"
   ]
  },
  {
   "cell_type": "code",
   "execution_count": 3,
   "metadata": {},
   "outputs": [
    {
     "data": {
      "text/html": [
       "<div>\n",
       "<style scoped>\n",
       "    .dataframe tbody tr th:only-of-type {\n",
       "        vertical-align: middle;\n",
       "    }\n",
       "\n",
       "    .dataframe tbody tr th {\n",
       "        vertical-align: top;\n",
       "    }\n",
       "\n",
       "    .dataframe thead th {\n",
       "        text-align: right;\n",
       "    }\n",
       "</style>\n",
       "<table border=\"1\" class=\"dataframe\">\n",
       "  <thead>\n",
       "    <tr style=\"text-align: right;\">\n",
       "      <th></th>\n",
       "      <th>url</th>\n",
       "      <th>title</th>\n",
       "      <th>price</th>\n",
       "      <th>description</th>\n",
       "      <th>technologies</th>\n",
       "      <th>has_none_values</th>\n",
       "    </tr>\n",
       "  </thead>\n",
       "  <tbody>\n",
       "    <tr>\n",
       "      <th>0</th>\n",
       "      <td>https://gb.ru/geek_university/developer/archit...</td>\n",
       "      <td>DevOps-инженер с нуля до Middle</td>\n",
       "      <td>5223</td>\n",
       "      <td>Вы научитесь настраивать пайплайны CI/CD, испо...</td>\n",
       "      <td>[Архитектура, DevOps-инженер, Ethernet, Unix, ...</td>\n",
       "      <td>False</td>\n",
       "    </tr>\n",
       "    <tr>\n",
       "      <th>1</th>\n",
       "      <td>https://gb.ru/geek_university/management/accou...</td>\n",
       "      <td>Профессия Бухгалтер</td>\n",
       "      <td>4049</td>\n",
       "      <td>Бухгалтер следит за финансами компании, работа...</td>\n",
       "      <td>[Инструменты, 1С:Бухгалтерия 8, редакция 3.0, ...</td>\n",
       "      <td>False</td>\n",
       "    </tr>\n",
       "    <tr>\n",
       "      <th>2</th>\n",
       "      <td>https://gb.ru/geek_university/marketing/seo</td>\n",
       "      <td>Курс «SEO-специалист»</td>\n",
       "      <td>2550</td>\n",
       "      <td>Вы изучите основы маркетинга: от иследования р...</td>\n",
       "      <td>[Яндекс.Метрика, Яндекс.Директ, Vk, Telegram, ...</td>\n",
       "      <td>False</td>\n",
       "    </tr>\n",
       "    <tr>\n",
       "      <th>3</th>\n",
       "      <td>https://gb.ru/geek_university/marketing/digita...</td>\n",
       "      <td>Маркетолог: быстрый старт в профессии</td>\n",
       "      <td>2121</td>\n",
       "      <td>Станьте специалистом по продвижению товаров, у...</td>\n",
       "      <td>[SQL, HTML/CSS, Яндекс.Метрика, Яндекс.Директ,...</td>\n",
       "      <td>False</td>\n",
       "    </tr>\n",
       "    <tr>\n",
       "      <th>4</th>\n",
       "      <td>https://gb.ru/geek_university/developer/progra...</td>\n",
       "      <td>Курс «Разработчик искусственного интеллекта»</td>\n",
       "      <td>4771</td>\n",
       "      <td>Создадите ИИ, которые распознают изображения и...</td>\n",
       "      <td>[Освоите 30+ популярных инструментов разработч...</td>\n",
       "      <td>False</td>\n",
       "    </tr>\n",
       "  </tbody>\n",
       "</table>\n",
       "</div>"
      ],
      "text/plain": [
       "                                                 url  \\\n",
       "0  https://gb.ru/geek_university/developer/archit...   \n",
       "1  https://gb.ru/geek_university/management/accou...   \n",
       "2        https://gb.ru/geek_university/marketing/seo   \n",
       "3  https://gb.ru/geek_university/marketing/digita...   \n",
       "4  https://gb.ru/geek_university/developer/progra...   \n",
       "\n",
       "                                          title  price  \\\n",
       "0               DevOps-инженер с нуля до Middle   5223   \n",
       "1                           Профессия Бухгалтер   4049   \n",
       "2                         Курс «SEO-специалист»   2550   \n",
       "3         Маркетолог: быстрый старт в профессии   2121   \n",
       "4  Курс «Разработчик искусственного интеллекта»   4771   \n",
       "\n",
       "                                         description  \\\n",
       "0  Вы научитесь настраивать пайплайны CI/CD, испо...   \n",
       "1  Бухгалтер следит за финансами компании, работа...   \n",
       "2  Вы изучите основы маркетинга: от иследования р...   \n",
       "3  Станьте специалистом по продвижению товаров, у...   \n",
       "4  Создадите ИИ, которые распознают изображения и...   \n",
       "\n",
       "                                        technologies  has_none_values  \n",
       "0  [Архитектура, DevOps-инженер, Ethernet, Unix, ...            False  \n",
       "1  [Инструменты, 1С:Бухгалтерия 8, редакция 3.0, ...            False  \n",
       "2  [Яндекс.Метрика, Яндекс.Директ, Vk, Telegram, ...            False  \n",
       "3  [SQL, HTML/CSS, Яндекс.Метрика, Яндекс.Директ,...            False  \n",
       "4  [Освоите 30+ популярных инструментов разработч...            False  "
      ]
     },
     "execution_count": 3,
     "metadata": {},
     "output_type": "execute_result"
    }
   ],
   "source": [
    "def create_docs(df):\n",
    "    documents = []\n",
    "    for i, row in df.iterrows():\n",
    "        metadata = {\"ссылка\": row.url, \"заголовок\": row.title, \"цена\": row.price, \"инструменты\": \", \".join(row.technologies)}\n",
    "        documents.append(Document(text=row.description, metadata=metadata, excluded_embed_metadata_keys=[\"ссылка\", \"цена\"]))\n",
    "\n",
    "    return documents\n",
    "\n",
    "df = pd.read_json(\"data/courses.jsonl\", lines=True)\n",
    "df.dropna(inplace=True)\n",
    "df.drop_duplicates(subset=[\"title\"], inplace=True)\n",
    "df.reset_index(drop=True, inplace=True)\n",
    "df.head()"
   ]
  },
  {
   "cell_type": "code",
   "execution_count": 4,
   "metadata": {},
   "outputs": [],
   "source": [
    "docs = create_docs(df)"
   ]
  },
  {
   "cell_type": "code",
   "execution_count": 99,
   "metadata": {},
   "outputs": [],
   "source": [
    "def setup_llm():\n",
    "    system_prompt = \"Ты AI ассистент, который на основе описания вакансии рекомендует курсы из контекста.\"\n",
    "    quantization_config = BitsAndBytesConfig(\n",
    "        load_in_4bit=True,\n",
    "        bnb_4bit_compute_dtype=torch.float16,\n",
    "        bnb_4bit_quant_type=\"nf4\",\n",
    "        bnb_4bit_use_double_quant=True,\n",
    "    )\n",
    "    llm = HuggingFaceLLM(\n",
    "        model_name=\"mistral_model\",\n",
    "        tokenizer_name=\"mistral_model\",\n",
    "        query_wrapper_prompt=PromptTemplate(\"<s>[INST] {query_str} [/INST] </s>\\n\"),\n",
    "        context_window=8192,\n",
    "        max_new_tokens=512,\n",
    "        model_kwargs={\"quantization_config\": quantization_config},\n",
    "        # tokenizer_kwargs={},\n",
    "        generate_kwargs={\"temperature\": 0},\n",
    "        device_map=\"auto\",\n",
    "        system_prompt=system_prompt,\n",
    "    )\n",
    "    return llm"
   ]
  },
  {
   "cell_type": "code",
   "execution_count": 100,
   "metadata": {},
   "outputs": [
    {
     "data": {
      "application/vnd.jupyter.widget-view+json": {
       "model_id": "e766ea4cb1bb48dfab67a73aa5b1eee6",
       "version_major": 2,
       "version_minor": 0
      },
      "text/plain": [
       "Loading checkpoint shards:   0%|          | 0/2 [00:00<?, ?it/s]"
      ]
     },
     "metadata": {},
     "output_type": "display_data"
    },
    {
     "data": {
      "application/vnd.jupyter.widget-view+json": {
       "model_id": "1c53fcb0d85540b4b49cd8ebbbd988f6",
       "version_major": 2,
       "version_minor": 0
      },
      "text/plain": [
       "Parsing nodes:   0%|          | 0/83 [00:00<?, ?it/s]"
      ]
     },
     "metadata": {},
     "output_type": "display_data"
    },
    {
     "data": {
      "application/vnd.jupyter.widget-view+json": {
       "model_id": "295946a143e84a76b09cafdf1e01c842",
       "version_major": 2,
       "version_minor": 0
      },
      "text/plain": [
       "Generating embeddings:   0%|          | 0/83 [00:00<?, ?it/s]"
      ]
     },
     "metadata": {},
     "output_type": "display_data"
    }
   ],
   "source": [
    "llm = setup_llm()\n",
    "Settings.llm = llm\n",
    "Settings.embed_model = HuggingFaceEmbedding(\n",
    "    model_name=\"intfloat/multilingual-e5-base\"\n",
    ")\n",
    "\n",
    "index = VectorStoreIndex.from_documents(documents=docs, show_progress=True)"
   ]
  },
  {
   "cell_type": "code",
   "execution_count": 101,
   "metadata": {},
   "outputs": [],
   "source": [
    "# qe_index = index.as_query_engine(similarity_top_k=7, node_postprocessors=[SimilarityPostprocessor(similarity_cutoff=0.8)])\n",
    "retriever = index.as_retriever(similarity_top_k=1, node_postprocessors=[SimilarityPostprocessor(similarity_cutoff=0.1)])"
   ]
  },
  {
   "cell_type": "code",
   "execution_count": 146,
   "metadata": {},
   "outputs": [],
   "source": [
    "stack_prompt = PromptTemplate(\n",
    "    \"У тебя есть описание вакансии: {query_str}\\n\"\n",
    "    \"Тебе нужно найти инструменты из описания вакансии и написать их на русском языке в виде строки с разделителем запятой и без повторений\"\n",
    ")\n",
    "\n",
    "answer_prompt = PromptTemplate(\n",
    "    \"У тебя есть описание вакансии: {query_str}\\n\"\n",
    "    \"Тебе нужно найти инструменты из описания вакансии и написать их на русском языке в виде строки с разделителем запятой и без повторений\"\n",
    ")\n",
    "\n",
    "\n",
    "class RAGStringQueryEngine(CustomQueryEngine):\n",
    "    \"\"\"RAG String Query Engine.\"\"\"\n",
    "\n",
    "    retriever: BaseRetriever\n",
    "    response_synthesizer: BaseSynthesizer\n",
    "    llm: HuggingFaceLLM\n",
    "    stack_prompt: PromptTemplate\n",
    "    answer_prompt: PromptTemplate\n",
    "\n",
    "    def custom_query(self, query_str: str):\n",
    "        query_str = re.sub(\"\\n\", \" \", query_str)\n",
    "        query_str = re.sub(\" +\", \" \", query_str)\n",
    "        query_str = query_str.strip()\n",
    "        nodes = self.retriever.retrieve(query_str)\n",
    "        stack = response = self.llm.complete(stack_prompt.format(query_str=query_str))\n",
    "        responses = []\n",
    "        for n in nodes:\n",
    "            course = {\n",
    "                \"title\": n.node.metadata[\"заголовок\"],\n",
    "                \"price\": n.node.metadata[\"цена\"],\n",
    "                \"link\": n.node.metadata[\"ссылка\"],\n",
    "                \"desc\": n.node.get_content()\n",
    "            }\n",
    "            response = self.llm.complete(\n",
    "                stack_prompt.format(context_str=n.node.metadata[\"инструменты\"], query_str=query_str)\n",
    "            )\n",
    "            print(str(response))\n",
    "            course[\"recs\"] = str(response).strip().split(\", \")\n",
    "            responses.append(course)\n",
    "        \n",
    "        return responses"
   ]
  },
  {
   "cell_type": "code",
   "execution_count": 147,
   "metadata": {},
   "outputs": [],
   "source": [
    "synthesizer = get_response_synthesizer(response_mode=\"compact\")\n",
    "\n",
    "query_engine = RAGStringQueryEngine(\n",
    "    retriever=retriever,\n",
    "    response_synthesizer=synthesizer,\n",
    "    llm=llm,\n",
    "    stack_prompt=stack_prompt,\n",
    "    answer_prompt=answer_prompt,\n",
    ")"
   ]
  },
  {
   "cell_type": "code",
   "execution_count": 148,
   "metadata": {},
   "outputs": [],
   "source": [
    "vacancy = \"\"\"\n",
    "Lamoda Group – это крупнейшая в России и СНГ онлайн-платформа по продаже fashion & lifestyle товаров.\n",
    "\n",
    "В настоящий момент мы ищем коллегу на позицию Python/Go разработчика в команду Marketing Development, где ребята занимаются разными системами коммуникации с клиентами, а также множеством других сервисов, направленных на упрощение работы команды маркетинга :)\n",
    "\n",
    "\n",
    "Готовы рассматривать кандидатов без опыта с Golang, но обязательно с желанием развиваться - у нас есть своя выстроенная система онбординга и обучения!\n",
    "\n",
    "Как мы работаем:\n",
    "\n",
    "пишем на последних версиях Python/Go;\n",
    "используем NSQ для внутренних очередей, а Apache Kafka для межсервисного взаимодействия;\n",
    "PostgreSQL в качестве основной СУБД, Redis, Aerospike;\n",
    "все приложения упакованы в Docker и деплоятся нажатием кнопки;\n",
    "у нас отличный CI/CD, запускаем тесты, security & style checks на каждый pull request;\n",
    "все pull request проходят 360 code review;\n",
    "участвуем в разработке и проектировании архитектурных решений, а также в реализации бизнес решений.\n",
    "Чем предстоит заниматься:\n",
    "\n",
    "писать новые и развивать существующие сервисы на Python и Go;\n",
    "участвовать в анализе, проектировании и оценке технических решений вместе с командой;\n",
    "писать unit и функциональные тесты;\n",
    "участвовать в code review.\n",
    "Мы ожидаем:\n",
    "\n",
    "опыт коммерческой разработки бэкенда на Python от 2-х лет, опыт на Golang будет плюсом;\n",
    "опыт работы с SQL базами данных (на уровне join-ов, оптимизации запросов);\n",
    "умение проектировать API сервисов;\n",
    "опыт работы с нереляционными базами данных (Redis);\n",
    "опыт работы с Docker, k8s и Git.\n",
    "\"\"\""
   ]
  },
  {
   "cell_type": "code",
   "execution_count": 149,
   "metadata": {},
   "outputs": [
    {
     "name": "stderr",
     "output_type": "stream",
     "text": [
      "/home/pc/Desktop/cp-cfo-2024/venv/lib/python3.10/site-packages/transformers/generation/configuration_utils.py:492: UserWarning: `do_sample` is set to `False`. However, `temperature` is set to `0` -- this flag is only used in sample-based generation modes. You should set `do_sample=True` or unset `temperature`.\n",
      "  warnings.warn(\n",
      "Setting `pad_token_id` to `eos_token_id`:2 for open-end generation.\n"
     ]
    },
    {
     "name": "stdout",
     "output_type": "stream",
     "text": [
      "У тебя есть описание вакансии: Lamoda Group – это крупнейшая в России и СНГ онлайн-платформа по продаже fashion & lifestyle товаров. В настоящий момент мы ищем коллегу на позицию Python/Go разработчика в команду Marketing Development, где ребята занимаются разными системами коммуникации с клиентами, а также множеством других сервисов, направленных на упрощение работы команды маркетинга :) Готовы рассматривать кандидатов без опыта с Golang, но обязательно с желанием развиваться - у нас есть своя выстроенная система онбординга и обучения! Как мы работаем: пишем на последних версиях Python/Go; используем NSQ для внутренних очередей, а Apache Kafka для межсервисного взаимодействия; PostgreSQL в качестве основной СУБД, Redis, Aerospike; все приложения упакованы в Docker и деплоятся нажатием кнопки; у нас отличный CI/CD, запускаем тесты, security & style checks на каждый pull request; все pull request проходят 360 code review; участвуем в разработке и проектировании архитектурных решений, а также в реализации бизнес решений. Чем предстоит заниматься: писать новые и развивать существующие сервисы на Python и Go; участвовать в анализе, проектировании и оценке технических решений вместе с командой; писать unit и функциональные тесты; участвовать в code review. Мы ожидаем: опыт коммерческой разработки бэкенда на Python от 2-х лет, опыт на Golang будет плюсом; опыт работы с SQL базами данных (на уровне join-ов, оптимизации запросов); умение проектировать API сервисов; опыт работы с нереляционными базами данных (Redis); опыт работы с Docker, k8s и Git.\n",
      "Тебе нужно найти инструменты из описания вакансии и написать их на русском языке в виде строки с разделителем запятой и без повторений\n",
      "\n",
      "Python/Go разработчик, Marketing Development, NSQ, Apache Kafka, PostgreSQL, Redis, Aerospike, Docker, CI/CD, unit/functional tests, code review, SQL, API, non-relational databases, Docker, k8s, Git.\n"
     ]
    }
   ],
   "source": [
    "response = query_engine.query(vacancy)"
   ]
  },
  {
   "cell_type": "code",
   "execution_count": 150,
   "metadata": {},
   "outputs": [
    {
     "name": "stdout",
     "output_type": "stream",
     "text": [
      "['Python/Go разработчик', 'Marketing Development', 'NSQ', 'Apache Kafka', 'PostgreSQL', 'Redis', 'Aerospike', 'Docker', 'CI/CD', 'unit/functional tests', 'code review', 'SQL', 'API', 'non-relational databases', 'Docker', 'k8s', 'Git.']\n"
     ]
    }
   ],
   "source": [
    "print(response[0][\"recs\"])"
   ]
  },
  {
   "cell_type": "code",
   "execution_count": 11,
   "metadata": {},
   "outputs": [],
   "source": [
    "\n",
    "# res = retriever.retrieve(\"На основе описания вакансии: \\n\" + vacancy + \"\\nПорекомендуй мне 1 курс из для каждого контекста и выведи их названия в виде списка\")"
   ]
  },
  {
   "cell_type": "code",
   "execution_count": 12,
   "metadata": {},
   "outputs": [
    {
     "data": {
      "text/plain": [
       "[NodeWithScore(node=TextNode(id_='0686d5af-8138-4623-9d97-29b581ecd75d', embedding=None, metadata={'ссылка': 'https://gb.ru/geek_university/developer/programmer/javascript/master', 'заголовок': 'Профессия Frontend-разработчик', 'цена': 4411, 'инструменты': 'Инструменты, VS Code, Vitest, Jest, Vite, Webpack, Pinia, Element Plus, Eslint, Sass, Pixel Perfect, Emmet, Lighthouse, HTML, CSS, GitLab, GitHub, Vue 3.0, React, TypeScript, JavaScript, REST API, Figma, Chrome DevTools, Навыки, Адаптивная верстка на HTML/CSS, Разработка интерактивных элементов на\\xa0JavaScript, Работ с промисами, хранилищем данных и Cookie, Работа со сборщиками Webpack, Vite, Программирование на TypeScript, Работа с React.js/Vue.js, Командная разработка в Git, Работа с дизайн-макетами в Figma, Кросс-браузерная и адаптивная верстка, Оптимизация страниц и управление ресурсами, Написание тестов на Jest и Vitest'}, excluded_embed_metadata_keys=['ссылка', 'цена'], excluded_llm_metadata_keys=[], relationships={<NodeRelationship.SOURCE: '1'>: RelatedNodeInfo(node_id='4595626d-9c6c-49bf-b898-8a51c11a1320', node_type=<ObjectType.DOCUMENT: '4'>, metadata={'ссылка': 'https://gb.ru/geek_university/developer/programmer/javascript/master', 'заголовок': 'Профессия Frontend-разработчик', 'цена': 4411, 'инструменты': 'Инструменты, VS Code, Vitest, Jest, Vite, Webpack, Pinia, Element Plus, Eslint, Sass, Pixel Perfect, Emmet, Lighthouse, HTML, CSS, GitLab, GitHub, Vue 3.0, React, TypeScript, JavaScript, REST API, Figma, Chrome DevTools, Навыки, Адаптивная верстка на HTML/CSS, Разработка интерактивных элементов на\\xa0JavaScript, Работ с промисами, хранилищем данных и Cookie, Работа со сборщиками Webpack, Vite, Программирование на TypeScript, Работа с React.js/Vue.js, Командная разработка в Git, Работа с дизайн-макетами в Figma, Кросс-браузерная и адаптивная верстка, Оптимизация страниц и управление ресурсами, Написание тестов на Jest и Vitest'}, hash='ba477536912ccbe4075da8d8fd88a17069feb517f0f193a71214f8ab908f577a'), <NodeRelationship.PREVIOUS: '2'>: RelatedNodeInfo(node_id='7963a09f-484e-4b79-861d-885c0dd5330d', node_type=<ObjectType.TEXT: '1'>, metadata={'ссылка': 'https://gb.ru/geek_university/developer/analyst/system-business', 'заголовок': 'Системный и бизнес аналитик: 2 в 1', 'цена': 3707, 'инструменты': 'SQL, Python, Pandas, Matplotlib, Seaborn, API, Git, Аналитика, Системный аналитик, Бизнес аналитик'}, hash='3a330108e7fa85ca4a990a4e79eca7d584709325faf2d65d262f39775d0152c3'), <NodeRelationship.NEXT: '3'>: RelatedNodeInfo(node_id='2a2c45f7-5197-4471-a0a9-57b32b0d6ec8', node_type=<ObjectType.TEXT: '1'>, metadata={}, hash='976b62016bbb305737288edc13338580810acee818ac0edefc8624c173fa3156')}, text='Фронтендеры работают с внешним видом сайтов, сервисов и приложений. Делают так, чтобы все правильно отображалось и корректно работало', start_char_idx=0, end_char_idx=133, text_template='{metadata_str}\\n\\n{content}', metadata_template='{key}: {value}', metadata_seperator='\\n'), score=0.8649822737957159),\n",
       " NodeWithScore(node=TextNode(id_='16661ca9-fa01-46f8-bd27-019455b90be7', embedding=None, metadata={'ссылка': 'https://gb.ru/geek_university/developer/programmer/backend', 'заголовок': 'Курс «Backend-разработчик»', 'цена': 4049, 'инструменты': 'Освоите 17 инструментов Python-разработчика, Разработка веб-приложений, Python, Django, Flask, FastAPI, HTML, CSS, Среды разработки, PyCharm, Docker, Linux, Kubernetes, Git, GitHub, Google Colab, Visual Studio, Visual Studio Code, Работа с\\xa0данными, SQL, MySQL, Oracle, PostgreSQL, JSON, XML'}, excluded_embed_metadata_keys=['ссылка', 'цена'], excluded_llm_metadata_keys=[], relationships={<NodeRelationship.SOURCE: '1'>: RelatedNodeInfo(node_id='70f330ea-8b99-4e04-9b44-28ececc5780a', node_type=<ObjectType.DOCUMENT: '4'>, metadata={'ссылка': 'https://gb.ru/geek_university/developer/programmer/backend', 'заголовок': 'Курс «Backend-разработчик»', 'цена': 4049, 'инструменты': 'Освоите 17 инструментов Python-разработчика, Разработка веб-приложений, Python, Django, Flask, FastAPI, HTML, CSS, Среды разработки, PyCharm, Docker, Linux, Kubernetes, Git, GitHub, Google Colab, Visual Studio, Visual Studio Code, Работа с\\xa0данными, SQL, MySQL, Oracle, PostgreSQL, JSON, XML'}, hash='816d60cbdea69fe9daa63a6c51c51b9b022a26d6ab2ef32f3750550cfe0e88df'), <NodeRelationship.PREVIOUS: '2'>: RelatedNodeInfo(node_id='d1e99e5e-0af2-4949-aac3-a9c13764b644', node_type=<ObjectType.TEXT: '1'>, metadata={'ссылка': 'https://gb.ru/geek_university/marketing/smm-management-spec-gb', 'заголовок': 'SMM-менеджер: быстрый старт в профессии', 'цена': 1742, 'инструменты': 'VK, ОК, Telegram, Дзен, TenChat, Miro, Adobe Photoshop, Adobe Illustrator, Figma, Tilda, Canva, Supa'}, hash='83b10909bbb813fd3d9aa5472dbe7245bf77a1bb31fef2e9c47e66509c9fbe57'), <NodeRelationship.NEXT: '3'>: RelatedNodeInfo(node_id='4303683e-e37f-41e3-bda4-2e0c9eab3df3', node_type=<ObjectType.TEXT: '1'>, metadata={}, hash='7c837028990a8571663f678ee5076cc35046b97670aed0111f592de17ed9665b')}, text='Научим создавать веб-приложения на языке Python, работать с базами данных и сервером', start_char_idx=0, end_char_idx=84, text_template='{metadata_str}\\n\\n{content}', metadata_template='{key}: {value}', metadata_seperator='\\n'), score=0.8577109206609193),\n",
       " NodeWithScore(node=TextNode(id_='ec24a02f-ce40-4b5c-9e61-f79b6102f969', embedding=None, metadata={'ссылка': 'https://gb.ru/geek_university/marketing/product', 'заголовок': 'Продуктовый маркетолог с нуля до Junior', 'цена': 2550, 'инструменты': 'SQL, HTML/CSS, Яндекс.Метрика, Яндекс.Директ, Vk, Telegram, Google Ads, Google Search Console, Google Analytics'}, excluded_embed_metadata_keys=['ссылка', 'цена'], excluded_llm_metadata_keys=[], relationships={<NodeRelationship.SOURCE: '1'>: RelatedNodeInfo(node_id='c03d67f3-93f2-441b-84f0-67c99a5833fb', node_type=<ObjectType.DOCUMENT: '4'>, metadata={'ссылка': 'https://gb.ru/geek_university/marketing/product', 'заголовок': 'Продуктовый маркетолог с нуля до Junior', 'цена': 2550, 'инструменты': 'SQL, HTML/CSS, Яндекс.Метрика, Яндекс.Директ, Vk, Telegram, Google Ads, Google Search Console, Google Analytics'}, hash='70abceb5a7ef1f721a3a393e6edad885dcdad09379240b41f44bb9acf15e5f51'), <NodeRelationship.PREVIOUS: '2'>: RelatedNodeInfo(node_id='1fca267d-bd24-447d-9bf1-f6e891fe15fd', node_type=<ObjectType.TEXT: '1'>, metadata={'ссылка': 'https://gb.ru/geek_university/developer/programmer', 'заголовок': 'Программист с нуля до Junior', 'цена': 3577, 'инструменты': 'Java, Python, JavaScript, C++, C, TCP/IP, SQL, NoSQL, Linux, Git, HTML/CSS, Docker, Allure, Selenium, Unit, Power BI, Tableau, Amplitude, ANNs, GAN, и другие, Программирование, Инженер-программист'}, hash='6aeff94cc6abdb8e1bb53313f4e0a7d3e45c0c8daf279891148081beaec95730'), <NodeRelationship.NEXT: '3'>: RelatedNodeInfo(node_id='ceca9d4b-6385-4139-817a-557ce606f6dc', node_type=<ObjectType.TEXT: '1'>, metadata={}, hash='f9988f66091c5c6e663a65cf60172b6f6e4484d6269b43acb4a02d208960870d')}, text='Станьте специалистом по созданию цифрового продукта и управлению его продвижением на рынок. Научитесь формулировать гипотезы, создавать MVP, адаптировать фичи, искать product-market fit. На практике сможете освоить управление продвижением продукта на рынок, аналитикой, построение карты пути клиента и презентацию результатов работы заказчику. Начать можно без опыта, а найти первую работу — уже через 9 месяцев после начала обучения.', start_char_idx=0, end_char_idx=434, text_template='{metadata_str}\\n\\n{content}', metadata_template='{key}: {value}', metadata_seperator='\\n'), score=0.8550587514839023),\n",
       " NodeWithScore(node=TextNode(id_='b6fd6216-856f-40a2-915d-4f21efd94802', embedding=None, metadata={'ссылка': 'https://gb.ru/geek_university/developer/qa-engineer/auto', 'заголовок': 'Профессия Инженер по автоматизации тестирования', 'цена': 5753, 'инструменты': 'Инструменты, Java, GitLab, Python, JavaScript, JUnit, Selenium WebDriver, Chrome DevTools, PostMan, Grafana, SQL, Jira, Figma, Навыки, Ручное тестирование веб- и мобильных приложений, Написание автотестов для приложений, Составление баг-репортов, Проектирование тест-кейсов, Приемочное и регрессионное тестирование, Основы Git, Java/Python/JavaScript, SQL и верстки, Работа с API, Понимание метрик тестирования и их применение, Работа с Jira, постановка задач, Написание UI-тестов на Java/Python/JavaScript'}, excluded_embed_metadata_keys=['ссылка', 'цена'], excluded_llm_metadata_keys=[], relationships={<NodeRelationship.SOURCE: '1'>: RelatedNodeInfo(node_id='f578a817-8df2-458c-833a-b53f6999e175', node_type=<ObjectType.DOCUMENT: '4'>, metadata={'ссылка': 'https://gb.ru/geek_university/developer/qa-engineer/auto', 'заголовок': 'Профессия Инженер по автоматизации тестирования', 'цена': 5753, 'инструменты': 'Инструменты, Java, GitLab, Python, JavaScript, JUnit, Selenium WebDriver, Chrome DevTools, PostMan, Grafana, SQL, Jira, Figma, Навыки, Ручное тестирование веб- и мобильных приложений, Написание автотестов для приложений, Составление баг-репортов, Проектирование тест-кейсов, Приемочное и регрессионное тестирование, Основы Git, Java/Python/JavaScript, SQL и верстки, Работа с API, Понимание метрик тестирования и их применение, Работа с Jira, постановка задач, Написание UI-тестов на Java/Python/JavaScript'}, hash='be53d1565728fec844b4307577e3d10c8f4a45f09defafb197baa70e24fdec8d'), <NodeRelationship.PREVIOUS: '2'>: RelatedNodeInfo(node_id='a7708e91-66d7-49cf-b6f3-1538c6462ff8', node_type=<ObjectType.TEXT: '1'>, metadata={'ссылка': 'https://gb.ru/geek_university/marketing/context-spec', 'заголовок': 'Специалист по контекстной рекламе: быстрый старт в профессии', 'цена': 2121, 'инструменты': 'Яндекс.Директ, Яндекс.Метрика, Директ.Коммандер, Яндекс Wordstat, Google Ads, Google Analytics, VK Реклама, Key Collector, Looker Studio, Tilda, Supa, Canva, Excel'}, hash='10c501b27e96130f00dd9bf213c712a38d7998ea4c50b35d9bd1d2e1f5924af3'), <NodeRelationship.NEXT: '3'>: RelatedNodeInfo(node_id='c76e1df1-5928-45cc-adf3-4397eec6df2a', node_type=<ObjectType.TEXT: '1'>, metadata={}, hash='25725952b56e61595f3e2529efb366115f89254421165b1a93705849235884c1')}, text='Изучите Java, JavaScript или Python для автотестов, познакомитесь с принципами тестирования, прокачаетесь как QA-инженер', start_char_idx=0, end_char_idx=120, text_template='{metadata_str}\\n\\n{content}', metadata_template='{key}: {value}', metadata_seperator='\\n'), score=0.8550281188040642),\n",
       " NodeWithScore(node=TextNode(id_='c5c3bf70-1dcd-4e2d-84c6-e1726d1bb5c4', embedding=None, metadata={'ссылка': 'https://gb.ru/geek_university/developer/programmer/python-gb', 'заголовок': 'Python-разработчик: быстрый старт в профессии', 'цена': 4049, 'инструменты': 'Программирование, Python-разработчик, Python, SQL, NoSQL, Django, JavaScript, HTML/CSS, Git'}, excluded_embed_metadata_keys=['ссылка', 'цена'], excluded_llm_metadata_keys=[], relationships={<NodeRelationship.SOURCE: '1'>: RelatedNodeInfo(node_id='77520018-1e9a-4944-b230-cb6d19bf433b', node_type=<ObjectType.DOCUMENT: '4'>, metadata={'ссылка': 'https://gb.ru/geek_university/developer/programmer/python-gb', 'заголовок': 'Python-разработчик: быстрый старт в профессии', 'цена': 4049, 'инструменты': 'Программирование, Python-разработчик, Python, SQL, NoSQL, Django, JavaScript, HTML/CSS, Git'}, hash='0fe9a821bfe8caab86d8261c47f85f7020f03648c8cd9ef8eb7b98780305aea2'), <NodeRelationship.PREVIOUS: '2'>: RelatedNodeInfo(node_id='1884f8c1-981c-41e2-8e31-4ef9bc576d08', node_type=<ObjectType.TEXT: '1'>, metadata={'ссылка': 'https://gb.ru/geek_university/design/fullstack-spec', 'заголовок': 'Fullstack-дизайнер', 'цена': 4771, 'инструменты': 'Adobe Photoshop, Adobe Illustrator, Figma, Tilda, After Effects'}, hash='2888e2fdf7e8003cf96a1aa2ae6fdeaffa672f857ad5507b46a0e1c938820846'), <NodeRelationship.NEXT: '3'>: RelatedNodeInfo(node_id='6ba0a52b-8dd0-4717-a763-82679322deca', node_type=<ObjectType.TEXT: '1'>, metadata={}, hash='2e9884d46db7330dbbfba1c24953223d2a29fb0b33100a78b4fbd903cc91abde')}, text='• Изучите Python с нуля и без навыков программирования\\n• На курсе вы узнаете, как создавать телеграм-ботов, сайты, приложения, нейросети и использовать Python для научных исследований — теория и практика на реальных задачах\\n• В результате станете Python-разработчиком и гарантированно найдете работу', start_char_idx=0, end_char_idx=299, text_template='{metadata_str}\\n\\n{content}', metadata_template='{key}: {value}', metadata_seperator='\\n'), score=0.854471741190977),\n",
       " NodeWithScore(node=TextNode(id_='ceaa83fe-7937-4e4c-85e6-f1c40588289a', embedding=None, metadata={'ссылка': 'https://gb.ru/geek_university/marketing/copywriter', 'заголовок': 'Редактор', 'цена': 2550, 'инструменты': 'YouTube, Tilda, Яндекс.Метрика, Miro, Trello'}, excluded_embed_metadata_keys=['ссылка', 'цена'], excluded_llm_metadata_keys=[], relationships={<NodeRelationship.SOURCE: '1'>: RelatedNodeInfo(node_id='cb107453-cc3b-4e79-91ab-97648475bf16', node_type=<ObjectType.DOCUMENT: '4'>, metadata={'ссылка': 'https://gb.ru/geek_university/marketing/copywriter', 'заголовок': 'Редактор', 'цена': 2550, 'инструменты': 'YouTube, Tilda, Яндекс.Метрика, Miro, Trello'}, hash='1ef756dfef0eb8eac99d702dd32907b9571ace9efa44d756c43b84022d5ed3b3'), <NodeRelationship.PREVIOUS: '2'>: RelatedNodeInfo(node_id='1e5eae5e-f965-4fe2-b460-b3b3fff25947', node_type=<ObjectType.TEXT: '1'>, metadata={'ссылка': 'https://gb.ru/geek_university/developer/qa-engineer/auto-gb', 'заголовок': 'Специалист по автоматизированному тестированию', 'цена': 3201, 'инструменты': 'Тестирование, Специалист по автоматизации тестирования, Java, SQL, NoSQL, Allure, Spring, JUnit, Selenium, REST, CI/CD, X-Path, JavaScript, HTML/CSS, Python'}, hash='6ba1274f3b232f3784f6b4a4ae4dabc394d4d79f7eaa61b13f5bc87928327291'), <NodeRelationship.NEXT: '3'>: RelatedNodeInfo(node_id='ebc3ab49-6bf9-4666-a958-171bfa3726b5', node_type=<ObjectType.TEXT: '1'>, metadata={}, hash='168f387d6b3341da899132b4196cefb5634ea5986e32c44aa414b3340e0a04a7')}, text='Станьте специалистом по продвижению товаров и брендов с помощью текстов. Научитесь писать для любой аудитории и любых целей, а также решать задачи бизнеса.Вы освоите на практике подготовку текстов для рекламных кампаний, разработку лендингов на Tilda и составление контент-плана. Научитесь продвигать продукты с помощью текстов, которые невозможно не прочитать. Начать можно без опыта, а найти первую работу — уже через 9 месяцев после старта обучения.', start_char_idx=0, end_char_idx=452, text_template='{metadata_str}\\n\\n{content}', metadata_template='{key}: {value}', metadata_seperator='\\n'), score=0.8540369572936112),\n",
       " NodeWithScore(node=TextNode(id_='d104d83e-fa04-421c-9f9b-779a1731a60e', embedding=None, metadata={'ссылка': 'https://gb.ru/geek_university/engineer/main', 'заголовок': 'Разработчик: старт в ИТ с нуля до Junior', 'цена': 3772, 'инструменты': 'Программирование, Тестирование, Аналитика, Продукт и проекты, Java, Python, JavaScript, C++, C, TCP/IP, SQL, NoSQL, Linux, Git, HTML/CSS, Docker, Allure, Selenium, Unit, Power BI, Tableau, Amplitude, ANNs, GAN, и другие'}, excluded_embed_metadata_keys=['ссылка', 'цена'], excluded_llm_metadata_keys=[], relationships={<NodeRelationship.SOURCE: '1'>: RelatedNodeInfo(node_id='9a58a8f1-ce81-4c36-92d3-541f4ae5c223', node_type=<ObjectType.DOCUMENT: '4'>, metadata={'ссылка': 'https://gb.ru/geek_university/engineer/main', 'заголовок': 'Разработчик: старт в ИТ с нуля до Junior', 'цена': 3772, 'инструменты': 'Программирование, Тестирование, Аналитика, Продукт и проекты, Java, Python, JavaScript, C++, C, TCP/IP, SQL, NoSQL, Linux, Git, HTML/CSS, Docker, Allure, Selenium, Unit, Power BI, Tableau, Amplitude, ANNs, GAN, и другие'}, hash='87e90a2b42390c68de54a1e5c8edd49c373c1f87848988548d07258a10fc47f1'), <NodeRelationship.PREVIOUS: '2'>: RelatedNodeInfo(node_id='c07ddb2d-3813-47e2-9a5a-8c16feff89bc', node_type=<ObjectType.TEXT: '1'>, metadata={'ссылка': 'https://gb.ru/geek_university/design/3d-spec', 'заголовок': 'Специалист по 3D-моделированию', 'цена': 4525, 'инструменты': '3ds Max, Adobe Photoshop, Adobe InDesign, AutoCAD'}, hash='f7c8252ecf5225c7380cb33aaa9a884976c1a98777406408afbf9d5b4177f920'), <NodeRelationship.NEXT: '3'>: RelatedNodeInfo(node_id='63d7d358-01c5-4339-9320-9c6f39bd606b', node_type=<ObjectType.TEXT: '1'>, metadata={}, hash='4f9e323850e8c0aaa32295c606d8b28c07657645146d39d7d641f3cd3e209c51')}, text='Станьте востребованным разработчиком. Вы изучите основы программирования и основные концепции компьютерных наук, цифровые технологии, операционные системы, программное обеспечение, базы данных, системы аналитики, языки программирования и многое другое. Познакомитесь с тестированием и системным анализом. На программе сможете сделать осознанный выбор специализации и технологий, прокачаться в выбранном направлении.', start_char_idx=0, end_char_idx=415, text_template='{metadata_str}\\n\\n{content}', metadata_template='{key}: {value}', metadata_seperator='\\n'), score=0.8524504473805029),\n",
       " NodeWithScore(node=TextNode(id_='157c7029-c092-40f1-98cf-56e4d335b215', embedding=None, metadata={'ссылка': 'https://gb.ru/geek_university/developer/programmer/cpp-spec-gb', 'заголовок': 'Разработчик на C++: быстрый старт в профессии', 'цена': 3060, 'инструменты': 'С++, SQL, Linux, Сmake, Docker'}, excluded_embed_metadata_keys=['ссылка', 'цена'], excluded_llm_metadata_keys=[], relationships={<NodeRelationship.SOURCE: '1'>: RelatedNodeInfo(node_id='826199fd-5829-418a-acdd-225422ae002b', node_type=<ObjectType.DOCUMENT: '4'>, metadata={'ссылка': 'https://gb.ru/geek_university/developer/programmer/cpp-spec-gb', 'заголовок': 'Разработчик на C++: быстрый старт в профессии', 'цена': 3060, 'инструменты': 'С++, SQL, Linux, Сmake, Docker'}, hash='e38dd1d50f2463ca450ff6ea09ea68f4c31596828a62d0d3297ae4dd31a41bbb'), <NodeRelationship.PREVIOUS: '2'>: RelatedNodeInfo(node_id='5af338f4-fd77-44e7-a8a9-a802180c56bd', node_type=<ObjectType.TEXT: '1'>, metadata={'ссылка': 'https://gb.ru/geek_university/developer/qa-engineer/pro', 'заголовок': 'Курс «Тестировщик с нуля до Junior»', 'цена': 3707, 'инструменты': 'Java, Python, Selenium, JUnit, RESTful API, Allure, Spring, JavaScript, HTML, CSS, Appium, UI Automator Viewer, Pytest, Paramiko, WebDriver, Apache JMeter, Jenkins, Git, Linux, Docker, Postman, SQL, NoSQL'}, hash='af8cd6bf67a0e91e2ccccffd1abf077d49f24a2a6d43f9ad01725959ceedd9fe'), <NodeRelationship.NEXT: '3'>: RelatedNodeInfo(node_id='45ba6996-8956-480f-8795-8e84ec6506d9', node_type=<ObjectType.TEXT: '1'>, metadata={}, hash='04cd685288915ddf3734661125dff3243553ae6f2e84e11a9f4a118dd82f0c13')}, text='— Научитесь программировать на C++ с нуля\\n— Вы изучите на практике, как работать с языком программирования C++, его библиотеками и инструментами, освоите алгоритмы и структуры данных, необходимые для разработки программных продуктов, получите опыт работы с популярными платформами\\n— Сможете выполнять проекты на C++ и трудоустроиться по профессии', start_char_idx=0, end_char_idx=346, text_template='{metadata_str}\\n\\n{content}', metadata_template='{key}: {value}', metadata_seperator='\\n'), score=0.8476939580137886),\n",
       " NodeWithScore(node=TextNode(id_='29705ef9-fdd5-4513-bde1-9fbe3a2e1222', embedding=None, metadata={'ссылка': 'https://gb.ru/geek_university/developer/programmer/frontend/master', 'заголовок': 'Frontend-разработчик с нуля до Middle', 'цена': 5223, 'инструменты': 'Программирование, Frontend-разработчик, JavaScript, NodeJS, Vue.js, ReactJS, TypeScript, Webpack, SQL, Redux, Angular, Git'}, excluded_embed_metadata_keys=['ссылка', 'цена'], excluded_llm_metadata_keys=[], relationships={<NodeRelationship.SOURCE: '1'>: RelatedNodeInfo(node_id='cb6ed190-aa49-461b-8162-8216951c2f95', node_type=<ObjectType.DOCUMENT: '4'>, metadata={'ссылка': 'https://gb.ru/geek_university/developer/programmer/frontend/master', 'заголовок': 'Frontend-разработчик с нуля до Middle', 'цена': 5223, 'инструменты': 'Программирование, Frontend-разработчик, JavaScript, NodeJS, Vue.js, ReactJS, TypeScript, Webpack, SQL, Redux, Angular, Git'}, hash='7d20fc7a67f38188406eae55be2859a511131d7f3cd281cf4bf6b785469a1267'), <NodeRelationship.PREVIOUS: '2'>: RelatedNodeInfo(node_id='09c436a7-d09f-4f43-a80c-7f9ee6e3b35f', node_type=<ObjectType.TEXT: '1'>, metadata={'ссылка': 'https://gb.ru/geek_university/developer/programmer/java-gb', 'заголовок': 'Курс «Java-разработчик»', 'цена': 4049, 'инструменты': 'Освоите 23 инструмента Java-разработчика, Разработка и тестирование веб-приложений, Java, Spring, JUnit, Mockito, Thymeleaf, HTML, CSS, Среды разработки, IntelliJ IDEA, Java Development Kit, Gradle, Maven, Docker, Linux, Kubernetes, Git, GitHub, Visual Studio Code, Работа с\\xa0данными, SQL, MySQL, Hibernate, PostgreSQL, JSON, XML'}, hash='756107034f4e8f1e03e7b72520171a6ad0ba85915f95db99e1048d3be52acf1b'), <NodeRelationship.NEXT: '3'>: RelatedNodeInfo(node_id='f22d1368-e6a1-4cbd-b8cc-798551f57223', node_type=<ObjectType.TEXT: '1'>, metadata={}, hash='32b0329e9da286e3d7ba6e706576a1a9a9741ff49cfd3d2ae8130978ccc558a5')}, text='Станьте Frontend-разработчиком, который специализируется на внешнем оформлении сайтов. Вы получите базовые знания и на практике научитесь создавать сайты и приложения, проектировать интерфейсы и работать со сложными инструментами frontend-разработчика. Изучите фреймворки и библиотеки, которые упростят вашу работу. Через 9 месяцев обучения вы сможете трудоустроиться. В пакете Мастер вы получаете возможность углубленно изучить технологическую специализацию с экспертной поддержкой.', start_char_idx=0, end_char_idx=483, text_template='{metadata_str}\\n\\n{content}', metadata_template='{key}: {value}', metadata_seperator='\\n'), score=0.8466352749875237),\n",
       " NodeWithScore(node=TextNode(id_='eea9c0a0-56fc-41f5-9e41-808246fc891d', embedding=None, metadata={'ссылка': 'https://gb.ru/geek_university/developer/programmer/unity/master', 'заголовок': 'Профессия Разработчик на Unity', 'цена': 5788, 'инструменты': 'Инструменты, Unity, Visual Studio, Blender, Навыки, Разработка 2D- и 3D-игр на Unity: от платформера до\\xa03D-экшена, Разработка основных игровых механик на C#, Оптимизация игровых проектов для\\xa0запуска на разных платформах, Интеграция SDK и плагинов в Unity 3D проекты, Разработка и адаптация игр под ПК, iOS, Android, Создание 3D-моделей в Blender, Разработка шейдеров для игровых проектов, Работа с Git (локальные и удаленные репозитории), Применение принципов ООП и паттернов проектирования в геймдеве'}, excluded_embed_metadata_keys=['ссылка', 'цена'], excluded_llm_metadata_keys=[], relationships={<NodeRelationship.SOURCE: '1'>: RelatedNodeInfo(node_id='5775bcfa-85ab-40e2-91b6-188dec357d8d', node_type=<ObjectType.DOCUMENT: '4'>, metadata={'ссылка': 'https://gb.ru/geek_university/developer/programmer/unity/master', 'заголовок': 'Профессия Разработчик на Unity', 'цена': 5788, 'инструменты': 'Инструменты, Unity, Visual Studio, Blender, Навыки, Разработка 2D- и 3D-игр на Unity: от платформера до\\xa03D-экшена, Разработка основных игровых механик на C#, Оптимизация игровых проектов для\\xa0запуска на разных платформах, Интеграция SDK и плагинов в Unity 3D проекты, Разработка и адаптация игр под ПК, iOS, Android, Создание 3D-моделей в Blender, Разработка шейдеров для игровых проектов, Работа с Git (локальные и удаленные репозитории), Применение принципов ООП и паттернов проектирования в геймдеве'}, hash='1b9a7e5b982b5db70d53b901fc3a0183efa7ca8ae4dff9c175d050af5c890f88'), <NodeRelationship.PREVIOUS: '2'>: RelatedNodeInfo(node_id='801be84c-735a-4639-96d1-d96ba175976b', node_type=<ObjectType.TEXT: '1'>, metadata={'ссылка': 'https://gb.ru/geek_university/developer/architecture/network-engineer', 'заголовок': 'Сетевой инженер', 'цена': 3577, 'инструменты': 'Python, Linux, TCP/IP, FHRP, STP, BGP, OSPF, Архитектура, Сетевой инженер'}, hash='0aeada05d6d84f5647a155cf18fc7bda8c7ae455f6c4fb9c510f01312cd4f67b'), <NodeRelationship.NEXT: '3'>: RelatedNodeInfo(node_id='3acd8963-ce0c-4fd4-ba9e-64ccb529c697', node_type=<ObjectType.TEXT: '1'>, metadata={}, hash='706a173cd8a3ceafa5335a08b23a90af200f0f1bdf363f2ab9507b2ccb02eb79')}, text='Unity-разработчик создает игры в любых жанрах и для разных платформ: от 2D-стратегий до 3D-шутеров. На Unity созданы Hearthstone, Русы против Ящеров, Pokemon GO и другие популярные игры.', start_char_idx=0, end_char_idx=186, text_template='{metadata_str}\\n\\n{content}', metadata_template='{key}: {value}', metadata_seperator='\\n'), score=0.8459068441497788)]"
      ]
     },
     "execution_count": 12,
     "metadata": {},
     "output_type": "execute_result"
    }
   ],
   "source": [
    "# res"
   ]
  },
  {
   "cell_type": "code",
   "execution_count": null,
   "metadata": {},
   "outputs": [],
   "source": []
  }
 ],
 "metadata": {
  "kernelspec": {
   "display_name": "venv",
   "language": "python",
   "name": "python3"
  },
  "language_info": {
   "codemirror_mode": {
    "name": "ipython",
    "version": 3
   },
   "file_extension": ".py",
   "mimetype": "text/x-python",
   "name": "python",
   "nbconvert_exporter": "python",
   "pygments_lexer": "ipython3",
   "version": "3.10.12"
  }
 },
 "nbformat": 4,
 "nbformat_minor": 2
}
